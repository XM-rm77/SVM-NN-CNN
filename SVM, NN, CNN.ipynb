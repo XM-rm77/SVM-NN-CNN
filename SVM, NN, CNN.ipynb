{
  "nbformat": 4,
  "nbformat_minor": 0,
  "metadata": {
    "colab": {
      "provenance": []
    },
    "kernelspec": {
      "name": "python3",
      "display_name": "Python 3"
    },
    "language_info": {
      "name": "python"
    }
  },
  "cells": [
    {
      "cell_type": "code",
      "execution_count": 79,
      "metadata": {
        "id": "ZuVJmBhYMrTJ"
      },
      "outputs": [],
      "source": [
        "import pandas as pd #importing all important packagages\n",
        "import numpy as np \n",
        "import matplotlib.pyplot as plt\n",
        "from sklearn.preprocessing import StandardScaler\n",
        "from skimage.feature import hog\n",
        "from sklearn.metrics import accuracy_score\n",
        "from keras import datasets, Sequential\n",
        "from keras.layers import Conv2D, Dense, MaxPooling2D, Flatten, BatchNormalization\n",
        "import tensorflow as tf\n",
        "from sklearn.svm import LinearSVC, SVC\n",
        "import skimage.feature\n",
        "from tensorflow.keras.optimizers import Adam"
      ]
    },
    {
      "cell_type": "markdown",
      "source": [
        "**Task4.1 SVM**"
      ],
      "metadata": {
        "id": "zhPiNEh72yZV"
      }
    },
    {
      "cell_type": "code",
      "source": [
        "\n",
        "data = np.load(\"wineData.npy\")\n",
        "labels = np.load(\"wineLabels.npy\")"
      ],
      "metadata": {
        "id": "m1BH9Dtu22jE"
      },
      "execution_count": 42,
      "outputs": []
    },
    {
      "cell_type": "code",
      "source": [
        "print(data.shape)"
      ],
      "metadata": {
        "colab": {
          "base_uri": "https://localhost:8080/"
        },
        "id": "po3qh5xv-kjt",
        "outputId": "352a9227-75a6-46b8-c1a2-75b9bc3a7081"
      },
      "execution_count": 43,
      "outputs": [
        {
          "output_type": "stream",
          "name": "stdout",
          "text": [
            "(178, 13)\n"
          ]
        }
      ]
    },
    {
      "cell_type": "code",
      "source": [
        "#splitting data to train and test\n",
        "training_data = data[0:142]\n",
        "testing_data = data[142:178]\n",
        "\n",
        "training_labels = labels[0:142]\n",
        "testing_labels = labels[142:178]"
      ],
      "metadata": {
        "id": "6_AYnHwJ33z4"
      },
      "execution_count": 44,
      "outputs": []
    },
    {
      "cell_type": "code",
      "source": [
        "#standardising the data\n",
        "\n",
        "scaler = StandardScaler()\n",
        "\n",
        "scaler.fit(data)\n",
        "\n",
        "scaler_train = scaler.transform(training_data)\n",
        "\n",
        "scaler_test = scaler.transform(testing_data)"
      ],
      "metadata": {
        "id": "TmLBMl3b_moP"
      },
      "execution_count": 55,
      "outputs": []
    },
    {
      "cell_type": "code",
      "source": [
        "#create a svm\n",
        "svc = SVC()\n",
        "\n",
        "svc.fit(scaler_train,training_labels)\n",
        "test_predictions = svc.predict(scaler_test)\n",
        "\n",
        "score = svc.score(scaler_test,testing_labels) * 100\n",
        "\n",
        "print(score)\n",
        "print(test_predictions)"
      ],
      "metadata": {
        "colab": {
          "base_uri": "https://localhost:8080/"
        },
        "id": "0Gn_xDYYDM96",
        "outputId": "e828dbab-d717-4051-be16-9b21edc701a1"
      },
      "execution_count": 56,
      "outputs": [
        {
          "output_type": "stream",
          "name": "stdout",
          "text": [
            "100.0\n",
            "[1 1 2 0 0 2 0 2 2 1 2 1 0 1 1 2 1 1 0 1 0 1 1 1 2 0 1 2 0 0 1 0 1 1 0 2]\n"
          ]
        }
      ]
    },
    {
      "cell_type": "code",
      "source": [
        "                                                                                       \n",
        "plt.scatter(testing_data[:,0], testing_data[:,1], marker = 'o', c = testing_labels)  \n",
        "plt.xlabel(\"Feature Dimension 1\")\n",
        "plt.ylabel(\"Feature Dimension 2\")\n",
        "plt.title('Ground Truth')\n",
        "plt.show() \n",
        "                                                                                    \n",
        "plt.scatter(testing_data[:,0], testing_data[:,1], marker = 'o', c = test_predictions)  \n",
        "plt.xlabel(\"Feature 1\")\n",
        "plt.ylabel(\"Feature 2\")                       \n",
        "plt.title('Predicted Label')\n",
        "plt.show() "
      ],
      "metadata": {
        "colab": {
          "base_uri": "https://localhost:8080/",
          "height": 573
        },
        "id": "rQUbKATCML4m",
        "outputId": "9d7bf48b-6ca3-431e-93a2-9cc515e6146f"
      },
      "execution_count": 57,
      "outputs": [
        {
          "output_type": "display_data",
          "data": {
            "text/plain": [
              "<Figure size 432x288 with 1 Axes>"
            ],
            "image/png": "[encoded data removed]"
          },
          "metadata": {
            "needs_background": "light"
          }
        },
        {
          "output_type": "display_data",
          "data": {
            "text/plain": [
              "<Figure size 432x288 with 1 Axes>"
            ],
            "image/png": "[encoded data removed]"
          },
          "metadata": {
            "needs_background": "light"
          }
        }
      ]
    },
    {
      "cell_type": "markdown",
      "source": [
        "**Task 4.2 NN**"
      ],
      "metadata": {
        "id": "Pbr2pcgENcrV"
      }
    },
    {
      "cell_type": "code",
      "execution_count": 58,
      "metadata": {
        "id": "95pZnCw-szxs"
      },
      "outputs": [],
      "source": [
        "#Fully connected NN\n",
        "model = tf.keras.Sequential(layers=[\n",
        "    tf.keras.layers.Dense(4, activation=tf.nn.relu),\n",
        "    tf.keras.layers.Dense(10, activation=tf.nn.relu),\n",
        "    tf.keras.layers.Dense(len(np.unique(training_labels)), activation=tf.nn.softmax)])\n",
        "\n",
        "model.compile(optimizer=tf.keras.optimizers.SGD(), \n",
        "              loss=tf.keras.losses.SparseCategoricalCrossentropy(), \n",
        "              metrics=tf.keras.metrics.SparseCategoricalAccuracy())\n"
      ]
    },
    {
      "cell_type": "code",
      "source": [
        "#training the model\n",
        "history = model.fit(scaler_train, training_labels, epochs=200, validation_split=0.2, verbose=1)\n",
        "model.summary()"
      ],
      "metadata": {
        "colab": {
          "base_uri": "https://localhost:8080/"
        },
        "id": "X-Thh1aDIuO3",
        "outputId": "2bbd9c77-153a-472e-9679-f5c26b9f18c4"
      },
      "execution_count": 59,
      "outputs": [
        {
          "output_type": "stream",
          "name": "stdout",
          "text": [
            "Epoch 1/200\n",
            "4/4 [==============================] - 1s 66ms/step - loss: 1.1262 - sparse_categorical_accuracy: 0.2920 - val_loss: 1.1464 - val_sparse_categorical_accuracy: 0.2069\n",
            "Epoch 2/200\n",
            "4/4 [==============================] - 0s 17ms/step - loss: 1.1191 - sparse_categorical_accuracy: 0.2743 - val_loss: 1.1377 - val_sparse_categorical_accuracy: 0.2414\n",
            "Epoch 3/200\n",
            "4/4 [==============================] - 0s 10ms/step - loss: 1.1127 - sparse_categorical_accuracy: 0.2920 - val_loss: 1.1275 - val_sparse_categorical_accuracy: 0.2069\n",
            "Epoch 4/200\n",
            "4/4 [==============================] - 0s 10ms/step - loss: 1.1057 - sparse_categorical_accuracy: 0.3186 - val_loss: 1.1198 - val_sparse_categorical_accuracy: 0.3448\n",
            "Epoch 5/200\n",
            "4/4 [==============================] - 0s 11ms/step - loss: 1.0997 - sparse_categorical_accuracy: 0.3894 - val_loss: 1.1133 - val_sparse_categorical_accuracy: 0.4138\n",
            "Epoch 6/200\n",
            "4/4 [==============================] - 0s 9ms/step - loss: 1.0934 - sparse_categorical_accuracy: 0.4159 - val_loss: 1.1035 - val_sparse_categorical_accuracy: 0.4138\n",
            "Epoch 7/200\n",
            "4/4 [==============================] - 0s 10ms/step - loss: 1.0865 - sparse_categorical_accuracy: 0.4336 - val_loss: 1.0953 - val_sparse_categorical_accuracy: 0.4138\n",
            "Epoch 8/200\n",
            "4/4 [==============================] - 0s 9ms/step - loss: 1.0800 - sparse_categorical_accuracy: 0.4513 - val_loss: 1.0882 - val_sparse_categorical_accuracy: 0.4138\n",
            "Epoch 9/200\n",
            "4/4 [==============================] - 0s 10ms/step - loss: 1.0740 - sparse_categorical_accuracy: 0.4602 - val_loss: 1.0816 - val_sparse_categorical_accuracy: 0.4483\n",
            "Epoch 10/200\n",
            "4/4 [==============================] - 0s 9ms/step - loss: 1.0679 - sparse_categorical_accuracy: 0.4867 - val_loss: 1.0746 - val_sparse_categorical_accuracy: 0.4828\n",
            "Epoch 11/200\n",
            "4/4 [==============================] - 0s 9ms/step - loss: 1.0623 - sparse_categorical_accuracy: 0.4867 - val_loss: 1.0685 - val_sparse_categorical_accuracy: 0.4828\n",
            "Epoch 12/200\n",
            "4/4 [==============================] - 0s 10ms/step - loss: 1.0565 - sparse_categorical_accuracy: 0.5044 - val_loss: 1.0605 - val_sparse_categorical_accuracy: 0.4828\n",
            "Epoch 13/200\n",
            "4/4 [==============================] - 0s 9ms/step - loss: 1.0509 - sparse_categorical_accuracy: 0.5044 - val_loss: 1.0545 - val_sparse_categorical_accuracy: 0.4828\n",
            "Epoch 14/200\n",
            "4/4 [==============================] - 0s 9ms/step - loss: 1.0455 - sparse_categorical_accuracy: 0.5044 - val_loss: 1.0476 - val_sparse_categorical_accuracy: 0.4828\n",
            "Epoch 15/200\n",
            "4/4 [==============================] - 0s 9ms/step - loss: 1.0397 - sparse_categorical_accuracy: 0.5398 - val_loss: 1.0407 - val_sparse_categorical_accuracy: 0.5172\n",
            "Epoch 16/200\n",
            "4/4 [==============================] - 0s 9ms/step - loss: 1.0342 - sparse_categorical_accuracy: 0.5398 - val_loss: 1.0336 - val_sparse_categorical_accuracy: 0.5172\n",
            "Epoch 17/200\n",
            "4/4 [==============================] - 0s 9ms/step - loss: 1.0288 - sparse_categorical_accuracy: 0.5575 - val_loss: 1.0265 - val_sparse_categorical_accuracy: 0.5172\n",
            "Epoch 18/200\n",
            "4/4 [==============================] - 0s 9ms/step - loss: 1.0233 - sparse_categorical_accuracy: 0.5664 - val_loss: 1.0197 - val_sparse_categorical_accuracy: 0.5172\n",
            "Epoch 19/200\n",
            "4/4 [==============================] - 0s 9ms/step - loss: 1.0176 - sparse_categorical_accuracy: 0.5752 - val_loss: 1.0131 - val_sparse_categorical_accuracy: 0.5172\n",
            "Epoch 20/200\n",
            "4/4 [==============================] - 0s 9ms/step - loss: 1.0122 - sparse_categorical_accuracy: 0.5929 - val_loss: 1.0057 - val_sparse_categorical_accuracy: 0.5172\n",
            "Epoch 21/200\n",
            "4/4 [==============================] - 0s 10ms/step - loss: 1.0065 - sparse_categorical_accuracy: 0.6018 - val_loss: 0.9995 - val_sparse_categorical_accuracy: 0.5172\n",
            "Epoch 22/200\n",
            "4/4 [==============================] - 0s 11ms/step - loss: 1.0011 - sparse_categorical_accuracy: 0.6106 - val_loss: 0.9931 - val_sparse_categorical_accuracy: 0.5172\n",
            "Epoch 23/200\n",
            "4/4 [==============================] - 0s 9ms/step - loss: 0.9952 - sparse_categorical_accuracy: 0.6106 - val_loss: 0.9869 - val_sparse_categorical_accuracy: 0.5517\n",
            "Epoch 24/200\n",
            "4/4 [==============================] - 0s 9ms/step - loss: 0.9897 - sparse_categorical_accuracy: 0.6106 - val_loss: 0.9802 - val_sparse_categorical_accuracy: 0.5517\n",
            "Epoch 25/200\n",
            "4/4 [==============================] - 0s 9ms/step - loss: 0.9840 - sparse_categorical_accuracy: 0.6195 - val_loss: 0.9740 - val_sparse_categorical_accuracy: 0.5517\n",
            "Epoch 26/200\n",
            "4/4 [==============================] - 0s 12ms/step - loss: 0.9784 - sparse_categorical_accuracy: 0.6283 - val_loss: 0.9686 - val_sparse_categorical_accuracy: 0.5862\n",
            "Epoch 27/200\n",
            "4/4 [==============================] - 0s 9ms/step - loss: 0.9731 - sparse_categorical_accuracy: 0.6283 - val_loss: 0.9607 - val_sparse_categorical_accuracy: 0.5862\n",
            "Epoch 28/200\n",
            "4/4 [==============================] - 0s 9ms/step - loss: 0.9667 - sparse_categorical_accuracy: 0.6460 - val_loss: 0.9552 - val_sparse_categorical_accuracy: 0.5862\n",
            "Epoch 29/200\n",
            "4/4 [==============================] - 0s 16ms/step - loss: 0.9609 - sparse_categorical_accuracy: 0.6372 - val_loss: 0.9479 - val_sparse_categorical_accuracy: 0.6207\n",
            "Epoch 30/200\n",
            "4/4 [==============================] - 0s 9ms/step - loss: 0.9548 - sparse_categorical_accuracy: 0.6460 - val_loss: 0.9422 - val_sparse_categorical_accuracy: 0.6552\n",
            "Epoch 31/200\n",
            "4/4 [==============================] - 0s 13ms/step - loss: 0.9487 - sparse_categorical_accuracy: 0.6460 - val_loss: 0.9364 - val_sparse_categorical_accuracy: 0.6552\n",
            "Epoch 32/200\n",
            "4/4 [==============================] - 0s 9ms/step - loss: 0.9426 - sparse_categorical_accuracy: 0.6460 - val_loss: 0.9288 - val_sparse_categorical_accuracy: 0.6552\n",
            "Epoch 33/200\n",
            "4/4 [==============================] - 0s 9ms/step - loss: 0.9362 - sparse_categorical_accuracy: 0.6460 - val_loss: 0.9219 - val_sparse_categorical_accuracy: 0.6897\n",
            "Epoch 34/200\n",
            "4/4 [==============================] - 0s 11ms/step - loss: 0.9299 - sparse_categorical_accuracy: 0.6460 - val_loss: 0.9155 - val_sparse_categorical_accuracy: 0.6897\n",
            "Epoch 35/200\n",
            "4/4 [==============================] - 0s 10ms/step - loss: 0.9236 - sparse_categorical_accuracy: 0.6372 - val_loss: 0.9083 - val_sparse_categorical_accuracy: 0.6897\n",
            "Epoch 36/200\n",
            "4/4 [==============================] - 0s 10ms/step - loss: 0.9171 - sparse_categorical_accuracy: 0.6372 - val_loss: 0.9025 - val_sparse_categorical_accuracy: 0.6897\n",
            "Epoch 37/200\n",
            "4/4 [==============================] - 0s 10ms/step - loss: 0.9108 - sparse_categorical_accuracy: 0.6372 - val_loss: 0.8957 - val_sparse_categorical_accuracy: 0.7241\n",
            "Epoch 38/200\n",
            "4/4 [==============================] - 0s 10ms/step - loss: 0.9042 - sparse_categorical_accuracy: 0.6372 - val_loss: 0.8884 - val_sparse_categorical_accuracy: 0.7241\n",
            "Epoch 39/200\n",
            "4/4 [==============================] - 0s 11ms/step - loss: 0.8976 - sparse_categorical_accuracy: 0.6372 - val_loss: 0.8817 - val_sparse_categorical_accuracy: 0.7241\n",
            "Epoch 40/200\n",
            "4/4 [==============================] - 0s 10ms/step - loss: 0.8910 - sparse_categorical_accuracy: 0.6372 - val_loss: 0.8751 - val_sparse_categorical_accuracy: 0.7241\n",
            "Epoch 41/200\n",
            "4/4 [==============================] - 0s 10ms/step - loss: 0.8841 - sparse_categorical_accuracy: 0.6372 - val_loss: 0.8677 - val_sparse_categorical_accuracy: 0.7241\n",
            "Epoch 42/200\n",
            "4/4 [==============================] - 0s 10ms/step - loss: 0.8769 - sparse_categorical_accuracy: 0.6372 - val_loss: 0.8611 - val_sparse_categorical_accuracy: 0.7241\n",
            "Epoch 43/200\n",
            "4/4 [==============================] - 0s 10ms/step - loss: 0.8698 - sparse_categorical_accuracy: 0.6460 - val_loss: 0.8546 - val_sparse_categorical_accuracy: 0.7241\n",
            "Epoch 44/200\n",
            "4/4 [==============================] - 0s 17ms/step - loss: 0.8622 - sparse_categorical_accuracy: 0.6460 - val_loss: 0.8469 - val_sparse_categorical_accuracy: 0.7241\n",
            "Epoch 45/200\n",
            "4/4 [==============================] - 0s 14ms/step - loss: 0.8549 - sparse_categorical_accuracy: 0.6549 - val_loss: 0.8404 - val_sparse_categorical_accuracy: 0.7241\n",
            "Epoch 46/200\n",
            "4/4 [==============================] - 0s 9ms/step - loss: 0.8472 - sparse_categorical_accuracy: 0.6637 - val_loss: 0.8323 - val_sparse_categorical_accuracy: 0.7241\n",
            "Epoch 47/200\n",
            "4/4 [==============================] - 0s 9ms/step - loss: 0.8394 - sparse_categorical_accuracy: 0.6637 - val_loss: 0.8256 - val_sparse_categorical_accuracy: 0.7241\n",
            "Epoch 48/200\n",
            "4/4 [==============================] - 0s 16ms/step - loss: 0.8318 - sparse_categorical_accuracy: 0.6814 - val_loss: 0.8183 - val_sparse_categorical_accuracy: 0.7241\n",
            "Epoch 49/200\n",
            "4/4 [==============================] - 0s 11ms/step - loss: 0.8243 - sparse_categorical_accuracy: 0.6991 - val_loss: 0.8116 - val_sparse_categorical_accuracy: 0.7241\n",
            "Epoch 50/200\n",
            "4/4 [==============================] - 0s 10ms/step - loss: 0.8162 - sparse_categorical_accuracy: 0.7345 - val_loss: 0.8048 - val_sparse_categorical_accuracy: 0.7931\n",
            "Epoch 51/200\n",
            "4/4 [==============================] - 0s 10ms/step - loss: 0.8083 - sparse_categorical_accuracy: 0.7965 - val_loss: 0.7974 - val_sparse_categorical_accuracy: 0.8621\n",
            "Epoch 52/200\n",
            "4/4 [==============================] - 0s 9ms/step - loss: 0.8002 - sparse_categorical_accuracy: 0.8407 - val_loss: 0.7896 - val_sparse_categorical_accuracy: 0.8621\n",
            "Epoch 53/200\n",
            "4/4 [==============================] - 0s 11ms/step - loss: 0.7920 - sparse_categorical_accuracy: 0.8584 - val_loss: 0.7822 - val_sparse_categorical_accuracy: 0.8966\n",
            "Epoch 54/200\n",
            "4/4 [==============================] - 0s 9ms/step - loss: 0.7832 - sparse_categorical_accuracy: 0.8584 - val_loss: 0.7746 - val_sparse_categorical_accuracy: 0.8966\n",
            "Epoch 55/200\n",
            "4/4 [==============================] - 0s 9ms/step - loss: 0.7750 - sparse_categorical_accuracy: 0.8673 - val_loss: 0.7672 - val_sparse_categorical_accuracy: 0.8966\n",
            "Epoch 56/200\n",
            "4/4 [==============================] - 0s 11ms/step - loss: 0.7665 - sparse_categorical_accuracy: 0.8761 - val_loss: 0.7595 - val_sparse_categorical_accuracy: 0.8966\n",
            "Epoch 57/200\n",
            "4/4 [==============================] - 0s 16ms/step - loss: 0.7578 - sparse_categorical_accuracy: 0.8850 - val_loss: 0.7510 - val_sparse_categorical_accuracy: 0.8966\n",
            "Epoch 58/200\n",
            "4/4 [==============================] - 0s 10ms/step - loss: 0.7490 - sparse_categorical_accuracy: 0.8850 - val_loss: 0.7433 - val_sparse_categorical_accuracy: 0.8966\n",
            "Epoch 59/200\n",
            "4/4 [==============================] - 0s 11ms/step - loss: 0.7404 - sparse_categorical_accuracy: 0.8850 - val_loss: 0.7358 - val_sparse_categorical_accuracy: 0.9310\n",
            "Epoch 60/200\n",
            "4/4 [==============================] - 0s 10ms/step - loss: 0.7313 - sparse_categorical_accuracy: 0.8850 - val_loss: 0.7288 - val_sparse_categorical_accuracy: 0.9310\n",
            "Epoch 61/200\n",
            "4/4 [==============================] - 0s 10ms/step - loss: 0.7224 - sparse_categorical_accuracy: 0.8938 - val_loss: 0.7214 - val_sparse_categorical_accuracy: 0.9310\n",
            "Epoch 62/200\n",
            "4/4 [==============================] - 0s 10ms/step - loss: 0.7133 - sparse_categorical_accuracy: 0.8938 - val_loss: 0.7135 - val_sparse_categorical_accuracy: 0.9310\n",
            "Epoch 63/200\n",
            "4/4 [==============================] - 0s 9ms/step - loss: 0.7043 - sparse_categorical_accuracy: 0.9027 - val_loss: 0.7061 - val_sparse_categorical_accuracy: 0.9310\n",
            "Epoch 64/200\n",
            "4/4 [==============================] - 0s 10ms/step - loss: 0.6954 - sparse_categorical_accuracy: 0.9027 - val_loss: 0.6991 - val_sparse_categorical_accuracy: 0.8966\n",
            "Epoch 65/200\n",
            "4/4 [==============================] - 0s 10ms/step - loss: 0.6861 - sparse_categorical_accuracy: 0.9204 - val_loss: 0.6914 - val_sparse_categorical_accuracy: 0.8966\n",
            "Epoch 66/200\n",
            "4/4 [==============================] - 0s 10ms/step - loss: 0.6771 - sparse_categorical_accuracy: 0.9204 - val_loss: 0.6835 - val_sparse_categorical_accuracy: 0.8966\n",
            "Epoch 67/200\n",
            "4/4 [==============================] - 0s 10ms/step - loss: 0.6679 - sparse_categorical_accuracy: 0.9204 - val_loss: 0.6749 - val_sparse_categorical_accuracy: 0.9310\n",
            "Epoch 68/200\n",
            "4/4 [==============================] - 0s 10ms/step - loss: 0.6587 - sparse_categorical_accuracy: 0.9204 - val_loss: 0.6667 - val_sparse_categorical_accuracy: 0.9310\n",
            "Epoch 69/200\n",
            "4/4 [==============================] - 0s 12ms/step - loss: 0.6494 - sparse_categorical_accuracy: 0.9204 - val_loss: 0.6585 - val_sparse_categorical_accuracy: 0.9310\n",
            "Epoch 70/200\n",
            "4/4 [==============================] - 0s 9ms/step - loss: 0.6398 - sparse_categorical_accuracy: 0.9204 - val_loss: 0.6516 - val_sparse_categorical_accuracy: 0.9310\n",
            "Epoch 71/200\n",
            "4/4 [==============================] - 0s 10ms/step - loss: 0.6302 - sparse_categorical_accuracy: 0.9204 - val_loss: 0.6440 - val_sparse_categorical_accuracy: 0.9310\n",
            "Epoch 72/200\n",
            "4/4 [==============================] - 0s 11ms/step - loss: 0.6208 - sparse_categorical_accuracy: 0.9204 - val_loss: 0.6365 - val_sparse_categorical_accuracy: 0.8966\n",
            "Epoch 73/200\n",
            "4/4 [==============================] - 0s 10ms/step - loss: 0.6114 - sparse_categorical_accuracy: 0.9204 - val_loss: 0.6301 - val_sparse_categorical_accuracy: 0.8966\n",
            "Epoch 74/200\n",
            "4/4 [==============================] - 0s 10ms/step - loss: 0.6021 - sparse_categorical_accuracy: 0.9204 - val_loss: 0.6232 - val_sparse_categorical_accuracy: 0.8966\n",
            "Epoch 75/200\n",
            "4/4 [==============================] - 0s 10ms/step - loss: 0.5926 - sparse_categorical_accuracy: 0.9204 - val_loss: 0.6154 - val_sparse_categorical_accuracy: 0.8621\n",
            "Epoch 76/200\n",
            "4/4 [==============================] - 0s 12ms/step - loss: 0.5829 - sparse_categorical_accuracy: 0.9204 - val_loss: 0.6085 - val_sparse_categorical_accuracy: 0.8621\n",
            "Epoch 77/200\n",
            "4/4 [==============================] - 0s 10ms/step - loss: 0.5737 - sparse_categorical_accuracy: 0.9204 - val_loss: 0.6009 - val_sparse_categorical_accuracy: 0.8621\n",
            "Epoch 78/200\n",
            "4/4 [==============================] - 0s 17ms/step - loss: 0.5640 - sparse_categorical_accuracy: 0.9204 - val_loss: 0.5932 - val_sparse_categorical_accuracy: 0.8621\n",
            "Epoch 79/200\n",
            "4/4 [==============================] - 0s 10ms/step - loss: 0.5546 - sparse_categorical_accuracy: 0.9204 - val_loss: 0.5858 - val_sparse_categorical_accuracy: 0.8621\n",
            "Epoch 80/200\n",
            "4/4 [==============================] - 0s 10ms/step - loss: 0.5451 - sparse_categorical_accuracy: 0.9204 - val_loss: 0.5788 - val_sparse_categorical_accuracy: 0.8621\n",
            "Epoch 81/200\n",
            "4/4 [==============================] - 0s 9ms/step - loss: 0.5356 - sparse_categorical_accuracy: 0.9204 - val_loss: 0.5718 - val_sparse_categorical_accuracy: 0.8621\n",
            "Epoch 82/200\n",
            "4/4 [==============================] - 0s 10ms/step - loss: 0.5266 - sparse_categorical_accuracy: 0.9381 - val_loss: 0.5646 - val_sparse_categorical_accuracy: 0.8621\n",
            "Epoch 83/200\n",
            "4/4 [==============================] - 0s 11ms/step - loss: 0.5173 - sparse_categorical_accuracy: 0.9292 - val_loss: 0.5571 - val_sparse_categorical_accuracy: 0.8621\n",
            "Epoch 84/200\n",
            "4/4 [==============================] - 0s 18ms/step - loss: 0.5086 - sparse_categorical_accuracy: 0.9381 - val_loss: 0.5506 - val_sparse_categorical_accuracy: 0.8621\n",
            "Epoch 85/200\n",
            "4/4 [==============================] - 0s 10ms/step - loss: 0.4991 - sparse_categorical_accuracy: 0.9381 - val_loss: 0.5435 - val_sparse_categorical_accuracy: 0.8621\n",
            "Epoch 86/200\n",
            "4/4 [==============================] - 0s 14ms/step - loss: 0.4901 - sparse_categorical_accuracy: 0.9469 - val_loss: 0.5368 - val_sparse_categorical_accuracy: 0.8621\n",
            "Epoch 87/200\n",
            "4/4 [==============================] - 0s 10ms/step - loss: 0.4813 - sparse_categorical_accuracy: 0.9558 - val_loss: 0.5297 - val_sparse_categorical_accuracy: 0.8621\n",
            "Epoch 88/200\n",
            "4/4 [==============================] - 0s 11ms/step - loss: 0.4727 - sparse_categorical_accuracy: 0.9558 - val_loss: 0.5225 - val_sparse_categorical_accuracy: 0.8621\n",
            "Epoch 89/200\n",
            "4/4 [==============================] - 0s 11ms/step - loss: 0.4641 - sparse_categorical_accuracy: 0.9558 - val_loss: 0.5159 - val_sparse_categorical_accuracy: 0.8621\n",
            "Epoch 90/200\n",
            "4/4 [==============================] - 0s 9ms/step - loss: 0.4553 - sparse_categorical_accuracy: 0.9558 - val_loss: 0.5093 - val_sparse_categorical_accuracy: 0.8621\n",
            "Epoch 91/200\n",
            "4/4 [==============================] - 0s 10ms/step - loss: 0.4468 - sparse_categorical_accuracy: 0.9558 - val_loss: 0.5025 - val_sparse_categorical_accuracy: 0.8621\n",
            "Epoch 92/200\n",
            "4/4 [==============================] - 0s 12ms/step - loss: 0.4384 - sparse_categorical_accuracy: 0.9558 - val_loss: 0.4961 - val_sparse_categorical_accuracy: 0.8621\n",
            "Epoch 93/200\n",
            "4/4 [==============================] - 0s 10ms/step - loss: 0.4301 - sparse_categorical_accuracy: 0.9558 - val_loss: 0.4904 - val_sparse_categorical_accuracy: 0.8621\n",
            "Epoch 94/200\n",
            "4/4 [==============================] - 0s 10ms/step - loss: 0.4218 - sparse_categorical_accuracy: 0.9558 - val_loss: 0.4847 - val_sparse_categorical_accuracy: 0.8621\n",
            "Epoch 95/200\n",
            "4/4 [==============================] - 0s 12ms/step - loss: 0.4140 - sparse_categorical_accuracy: 0.9558 - val_loss: 0.4796 - val_sparse_categorical_accuracy: 0.8966\n",
            "Epoch 96/200\n",
            "4/4 [==============================] - 0s 11ms/step - loss: 0.4061 - sparse_categorical_accuracy: 0.9558 - val_loss: 0.4729 - val_sparse_categorical_accuracy: 0.8621\n",
            "Epoch 97/200\n",
            "4/4 [==============================] - 0s 9ms/step - loss: 0.3989 - sparse_categorical_accuracy: 0.9558 - val_loss: 0.4670 - val_sparse_categorical_accuracy: 0.8621\n",
            "Epoch 98/200\n",
            "4/4 [==============================] - 0s 10ms/step - loss: 0.3917 - sparse_categorical_accuracy: 0.9558 - val_loss: 0.4610 - val_sparse_categorical_accuracy: 0.8621\n",
            "Epoch 99/200\n",
            "4/4 [==============================] - 0s 12ms/step - loss: 0.3848 - sparse_categorical_accuracy: 0.9558 - val_loss: 0.4556 - val_sparse_categorical_accuracy: 0.8621\n",
            "Epoch 100/200\n",
            "4/4 [==============================] - 0s 12ms/step - loss: 0.3780 - sparse_categorical_accuracy: 0.9558 - val_loss: 0.4498 - val_sparse_categorical_accuracy: 0.8621\n",
            "Epoch 101/200\n",
            "4/4 [==============================] - 0s 10ms/step - loss: 0.3713 - sparse_categorical_accuracy: 0.9558 - val_loss: 0.4438 - val_sparse_categorical_accuracy: 0.8621\n",
            "Epoch 102/200\n",
            "4/4 [==============================] - 0s 10ms/step - loss: 0.3643 - sparse_categorical_accuracy: 0.9558 - val_loss: 0.4378 - val_sparse_categorical_accuracy: 0.8621\n",
            "Epoch 103/200\n",
            "4/4 [==============================] - 0s 10ms/step - loss: 0.3571 - sparse_categorical_accuracy: 0.9558 - val_loss: 0.4326 - val_sparse_categorical_accuracy: 0.8621\n",
            "Epoch 104/200\n",
            "4/4 [==============================] - 0s 10ms/step - loss: 0.3502 - sparse_categorical_accuracy: 0.9558 - val_loss: 0.4272 - val_sparse_categorical_accuracy: 0.8621\n",
            "Epoch 105/200\n",
            "4/4 [==============================] - 0s 11ms/step - loss: 0.3437 - sparse_categorical_accuracy: 0.9558 - val_loss: 0.4214 - val_sparse_categorical_accuracy: 0.8621\n",
            "Epoch 106/200\n",
            "4/4 [==============================] - 0s 11ms/step - loss: 0.3376 - sparse_categorical_accuracy: 0.9558 - val_loss: 0.4170 - val_sparse_categorical_accuracy: 0.8621\n",
            "Epoch 107/200\n",
            "4/4 [==============================] - 0s 10ms/step - loss: 0.3313 - sparse_categorical_accuracy: 0.9558 - val_loss: 0.4126 - val_sparse_categorical_accuracy: 0.8621\n",
            "Epoch 108/200\n",
            "4/4 [==============================] - 0s 10ms/step - loss: 0.3253 - sparse_categorical_accuracy: 0.9558 - val_loss: 0.4075 - val_sparse_categorical_accuracy: 0.8621\n",
            "Epoch 109/200\n",
            "4/4 [==============================] - 0s 10ms/step - loss: 0.3194 - sparse_categorical_accuracy: 0.9558 - val_loss: 0.4028 - val_sparse_categorical_accuracy: 0.8621\n",
            "Epoch 110/200\n",
            "4/4 [==============================] - 0s 10ms/step - loss: 0.3136 - sparse_categorical_accuracy: 0.9558 - val_loss: 0.3981 - val_sparse_categorical_accuracy: 0.8621\n",
            "Epoch 111/200\n",
            "4/4 [==============================] - 0s 10ms/step - loss: 0.3081 - sparse_categorical_accuracy: 0.9558 - val_loss: 0.3948 - val_sparse_categorical_accuracy: 0.8621\n",
            "Epoch 112/200\n",
            "4/4 [==============================] - 0s 10ms/step - loss: 0.3025 - sparse_categorical_accuracy: 0.9558 - val_loss: 0.3901 - val_sparse_categorical_accuracy: 0.8621\n",
            "Epoch 113/200\n",
            "4/4 [==============================] - 0s 11ms/step - loss: 0.2975 - sparse_categorical_accuracy: 0.9558 - val_loss: 0.3854 - val_sparse_categorical_accuracy: 0.8621\n",
            "Epoch 114/200\n",
            "4/4 [==============================] - 0s 9ms/step - loss: 0.2926 - sparse_categorical_accuracy: 0.9646 - val_loss: 0.3813 - val_sparse_categorical_accuracy: 0.8621\n",
            "Epoch 115/200\n",
            "4/4 [==============================] - 0s 10ms/step - loss: 0.2876 - sparse_categorical_accuracy: 0.9646 - val_loss: 0.3773 - val_sparse_categorical_accuracy: 0.8621\n",
            "Epoch 116/200\n",
            "4/4 [==============================] - 0s 12ms/step - loss: 0.2830 - sparse_categorical_accuracy: 0.9646 - val_loss: 0.3739 - val_sparse_categorical_accuracy: 0.8621\n",
            "Epoch 117/200\n",
            "4/4 [==============================] - 0s 10ms/step - loss: 0.2784 - sparse_categorical_accuracy: 0.9646 - val_loss: 0.3703 - val_sparse_categorical_accuracy: 0.8621\n",
            "Epoch 118/200\n",
            "4/4 [==============================] - 0s 16ms/step - loss: 0.2739 - sparse_categorical_accuracy: 0.9646 - val_loss: 0.3670 - val_sparse_categorical_accuracy: 0.8621\n",
            "Epoch 119/200\n",
            "4/4 [==============================] - 0s 16ms/step - loss: 0.2696 - sparse_categorical_accuracy: 0.9646 - val_loss: 0.3639 - val_sparse_categorical_accuracy: 0.8621\n",
            "Epoch 120/200\n",
            "4/4 [==============================] - 0s 10ms/step - loss: 0.2653 - sparse_categorical_accuracy: 0.9646 - val_loss: 0.3604 - val_sparse_categorical_accuracy: 0.8621\n",
            "Epoch 121/200\n",
            "4/4 [==============================] - 0s 10ms/step - loss: 0.2610 - sparse_categorical_accuracy: 0.9646 - val_loss: 0.3570 - val_sparse_categorical_accuracy: 0.8621\n",
            "Epoch 122/200\n",
            "4/4 [==============================] - 0s 10ms/step - loss: 0.2571 - sparse_categorical_accuracy: 0.9646 - val_loss: 0.3523 - val_sparse_categorical_accuracy: 0.8621\n",
            "Epoch 123/200\n",
            "4/4 [==============================] - 0s 9ms/step - loss: 0.2531 - sparse_categorical_accuracy: 0.9646 - val_loss: 0.3488 - val_sparse_categorical_accuracy: 0.8621\n",
            "Epoch 124/200\n",
            "4/4 [==============================] - 0s 9ms/step - loss: 0.2492 - sparse_categorical_accuracy: 0.9646 - val_loss: 0.3462 - val_sparse_categorical_accuracy: 0.8621\n",
            "Epoch 125/200\n",
            "4/4 [==============================] - 0s 10ms/step - loss: 0.2454 - sparse_categorical_accuracy: 0.9646 - val_loss: 0.3431 - val_sparse_categorical_accuracy: 0.8621\n",
            "Epoch 126/200\n",
            "4/4 [==============================] - 0s 10ms/step - loss: 0.2418 - sparse_categorical_accuracy: 0.9646 - val_loss: 0.3396 - val_sparse_categorical_accuracy: 0.8621\n",
            "Epoch 127/200\n",
            "4/4 [==============================] - 0s 16ms/step - loss: 0.2382 - sparse_categorical_accuracy: 0.9646 - val_loss: 0.3364 - val_sparse_categorical_accuracy: 0.8621\n",
            "Epoch 128/200\n",
            "4/4 [==============================] - 0s 10ms/step - loss: 0.2349 - sparse_categorical_accuracy: 0.9646 - val_loss: 0.3327 - val_sparse_categorical_accuracy: 0.8621\n",
            "Epoch 129/200\n",
            "4/4 [==============================] - 0s 11ms/step - loss: 0.2315 - sparse_categorical_accuracy: 0.9646 - val_loss: 0.3303 - val_sparse_categorical_accuracy: 0.8621\n",
            "Epoch 130/200\n",
            "4/4 [==============================] - 0s 11ms/step - loss: 0.2283 - sparse_categorical_accuracy: 0.9646 - val_loss: 0.3277 - val_sparse_categorical_accuracy: 0.8621\n",
            "Epoch 131/200\n",
            "4/4 [==============================] - 0s 10ms/step - loss: 0.2251 - sparse_categorical_accuracy: 0.9646 - val_loss: 0.3245 - val_sparse_categorical_accuracy: 0.8621\n",
            "Epoch 132/200\n",
            "4/4 [==============================] - 0s 10ms/step - loss: 0.2221 - sparse_categorical_accuracy: 0.9646 - val_loss: 0.3218 - val_sparse_categorical_accuracy: 0.8621\n",
            "Epoch 133/200\n",
            "4/4 [==============================] - 0s 12ms/step - loss: 0.2191 - sparse_categorical_accuracy: 0.9646 - val_loss: 0.3196 - val_sparse_categorical_accuracy: 0.8621\n",
            "Epoch 134/200\n",
            "4/4 [==============================] - 0s 11ms/step - loss: 0.2162 - sparse_categorical_accuracy: 0.9646 - val_loss: 0.3166 - val_sparse_categorical_accuracy: 0.8621\n",
            "Epoch 135/200\n",
            "4/4 [==============================] - 0s 11ms/step - loss: 0.2133 - sparse_categorical_accuracy: 0.9646 - val_loss: 0.3144 - val_sparse_categorical_accuracy: 0.8621\n",
            "Epoch 136/200\n",
            "4/4 [==============================] - 0s 10ms/step - loss: 0.2106 - sparse_categorical_accuracy: 0.9646 - val_loss: 0.3124 - val_sparse_categorical_accuracy: 0.8621\n",
            "Epoch 137/200\n",
            "4/4 [==============================] - 0s 11ms/step - loss: 0.2080 - sparse_categorical_accuracy: 0.9646 - val_loss: 0.3096 - val_sparse_categorical_accuracy: 0.8621\n",
            "Epoch 138/200\n",
            "4/4 [==============================] - 0s 12ms/step - loss: 0.2055 - sparse_categorical_accuracy: 0.9646 - val_loss: 0.3066 - val_sparse_categorical_accuracy: 0.8621\n",
            "Epoch 139/200\n",
            "4/4 [==============================] - 0s 10ms/step - loss: 0.2032 - sparse_categorical_accuracy: 0.9646 - val_loss: 0.3045 - val_sparse_categorical_accuracy: 0.8621\n",
            "Epoch 140/200\n",
            "4/4 [==============================] - 0s 9ms/step - loss: 0.2008 - sparse_categorical_accuracy: 0.9646 - val_loss: 0.3014 - val_sparse_categorical_accuracy: 0.8621\n",
            "Epoch 141/200\n",
            "4/4 [==============================] - 0s 12ms/step - loss: 0.1985 - sparse_categorical_accuracy: 0.9646 - val_loss: 0.2990 - val_sparse_categorical_accuracy: 0.8621\n",
            "Epoch 142/200\n",
            "4/4 [==============================] - 0s 10ms/step - loss: 0.1962 - sparse_categorical_accuracy: 0.9646 - val_loss: 0.2974 - val_sparse_categorical_accuracy: 0.8966\n",
            "Epoch 143/200\n",
            "4/4 [==============================] - 0s 10ms/step - loss: 0.1939 - sparse_categorical_accuracy: 0.9646 - val_loss: 0.2953 - val_sparse_categorical_accuracy: 0.8966\n",
            "Epoch 144/200\n",
            "4/4 [==============================] - 0s 11ms/step - loss: 0.1918 - sparse_categorical_accuracy: 0.9646 - val_loss: 0.2928 - val_sparse_categorical_accuracy: 0.8966\n",
            "Epoch 145/200\n",
            "4/4 [==============================] - 0s 11ms/step - loss: 0.1895 - sparse_categorical_accuracy: 0.9646 - val_loss: 0.2907 - val_sparse_categorical_accuracy: 0.8966\n",
            "Epoch 146/200\n",
            "4/4 [==============================] - 0s 10ms/step - loss: 0.1875 - sparse_categorical_accuracy: 0.9646 - val_loss: 0.2887 - val_sparse_categorical_accuracy: 0.8966\n",
            "Epoch 147/200\n",
            "4/4 [==============================] - 0s 11ms/step - loss: 0.1853 - sparse_categorical_accuracy: 0.9646 - val_loss: 0.2865 - val_sparse_categorical_accuracy: 0.8966\n",
            "Epoch 148/200\n",
            "4/4 [==============================] - 0s 9ms/step - loss: 0.1832 - sparse_categorical_accuracy: 0.9646 - val_loss: 0.2849 - val_sparse_categorical_accuracy: 0.8966\n",
            "Epoch 149/200\n",
            "4/4 [==============================] - 0s 9ms/step - loss: 0.1812 - sparse_categorical_accuracy: 0.9646 - val_loss: 0.2831 - val_sparse_categorical_accuracy: 0.8966\n",
            "Epoch 150/200\n",
            "4/4 [==============================] - 0s 10ms/step - loss: 0.1793 - sparse_categorical_accuracy: 0.9646 - val_loss: 0.2812 - val_sparse_categorical_accuracy: 0.8966\n",
            "Epoch 151/200\n",
            "4/4 [==============================] - 0s 12ms/step - loss: 0.1773 - sparse_categorical_accuracy: 0.9735 - val_loss: 0.2790 - val_sparse_categorical_accuracy: 0.8966\n",
            "Epoch 152/200\n",
            "4/4 [==============================] - 0s 10ms/step - loss: 0.1755 - sparse_categorical_accuracy: 0.9735 - val_loss: 0.2768 - val_sparse_categorical_accuracy: 0.8966\n",
            "Epoch 153/200\n",
            "4/4 [==============================] - 0s 10ms/step - loss: 0.1737 - sparse_categorical_accuracy: 0.9735 - val_loss: 0.2753 - val_sparse_categorical_accuracy: 0.8966\n",
            "Epoch 154/200\n",
            "4/4 [==============================] - 0s 11ms/step - loss: 0.1720 - sparse_categorical_accuracy: 0.9735 - val_loss: 0.2737 - val_sparse_categorical_accuracy: 0.8966\n",
            "Epoch 155/200\n",
            "4/4 [==============================] - 0s 17ms/step - loss: 0.1703 - sparse_categorical_accuracy: 0.9735 - val_loss: 0.2720 - val_sparse_categorical_accuracy: 0.8966\n",
            "Epoch 156/200\n",
            "4/4 [==============================] - 0s 30ms/step - loss: 0.1686 - sparse_categorical_accuracy: 0.9735 - val_loss: 0.2695 - val_sparse_categorical_accuracy: 0.8966\n",
            "Epoch 157/200\n",
            "4/4 [==============================] - 0s 22ms/step - loss: 0.1670 - sparse_categorical_accuracy: 0.9735 - val_loss: 0.2674 - val_sparse_categorical_accuracy: 0.8966\n",
            "Epoch 158/200\n",
            "4/4 [==============================] - 0s 30ms/step - loss: 0.1654 - sparse_categorical_accuracy: 0.9735 - val_loss: 0.2661 - val_sparse_categorical_accuracy: 0.8966\n",
            "Epoch 159/200\n",
            "4/4 [==============================] - 0s 23ms/step - loss: 0.1639 - sparse_categorical_accuracy: 0.9735 - val_loss: 0.2647 - val_sparse_categorical_accuracy: 0.8966\n",
            "Epoch 160/200\n",
            "4/4 [==============================] - 0s 17ms/step - loss: 0.1626 - sparse_categorical_accuracy: 0.9735 - val_loss: 0.2635 - val_sparse_categorical_accuracy: 0.8966\n",
            "Epoch 161/200\n",
            "4/4 [==============================] - 0s 17ms/step - loss: 0.1609 - sparse_categorical_accuracy: 0.9735 - val_loss: 0.2619 - val_sparse_categorical_accuracy: 0.8966\n",
            "Epoch 162/200\n",
            "4/4 [==============================] - 0s 24ms/step - loss: 0.1594 - sparse_categorical_accuracy: 0.9735 - val_loss: 0.2597 - val_sparse_categorical_accuracy: 0.8966\n",
            "Epoch 163/200\n",
            "4/4 [==============================] - 0s 16ms/step - loss: 0.1579 - sparse_categorical_accuracy: 0.9735 - val_loss: 0.2583 - val_sparse_categorical_accuracy: 0.8966\n",
            "Epoch 164/200\n",
            "4/4 [==============================] - 0s 29ms/step - loss: 0.1567 - sparse_categorical_accuracy: 0.9735 - val_loss: 0.2574 - val_sparse_categorical_accuracy: 0.8966\n",
            "Epoch 165/200\n",
            "4/4 [==============================] - 0s 19ms/step - loss: 0.1552 - sparse_categorical_accuracy: 0.9735 - val_loss: 0.2563 - val_sparse_categorical_accuracy: 0.8966\n",
            "Epoch 166/200\n",
            "4/4 [==============================] - 0s 33ms/step - loss: 0.1538 - sparse_categorical_accuracy: 0.9735 - val_loss: 0.2548 - val_sparse_categorical_accuracy: 0.8966\n",
            "Epoch 167/200\n",
            "4/4 [==============================] - 0s 26ms/step - loss: 0.1525 - sparse_categorical_accuracy: 0.9735 - val_loss: 0.2534 - val_sparse_categorical_accuracy: 0.8966\n",
            "Epoch 168/200\n",
            "4/4 [==============================] - 0s 20ms/step - loss: 0.1512 - sparse_categorical_accuracy: 0.9735 - val_loss: 0.2512 - val_sparse_categorical_accuracy: 0.8966\n",
            "Epoch 169/200\n",
            "4/4 [==============================] - 0s 12ms/step - loss: 0.1499 - sparse_categorical_accuracy: 0.9735 - val_loss: 0.2497 - val_sparse_categorical_accuracy: 0.8966\n",
            "Epoch 170/200\n",
            "4/4 [==============================] - 0s 16ms/step - loss: 0.1486 - sparse_categorical_accuracy: 0.9735 - val_loss: 0.2479 - val_sparse_categorical_accuracy: 0.8966\n",
            "Epoch 171/200\n",
            "4/4 [==============================] - 0s 12ms/step - loss: 0.1474 - sparse_categorical_accuracy: 0.9735 - val_loss: 0.2465 - val_sparse_categorical_accuracy: 0.8966\n",
            "Epoch 172/200\n",
            "4/4 [==============================] - 0s 11ms/step - loss: 0.1462 - sparse_categorical_accuracy: 0.9735 - val_loss: 0.2451 - val_sparse_categorical_accuracy: 0.8966\n",
            "Epoch 173/200\n",
            "4/4 [==============================] - 0s 10ms/step - loss: 0.1450 - sparse_categorical_accuracy: 0.9735 - val_loss: 0.2423 - val_sparse_categorical_accuracy: 0.9310\n",
            "Epoch 174/200\n",
            "4/4 [==============================] - 0s 10ms/step - loss: 0.1435 - sparse_categorical_accuracy: 0.9735 - val_loss: 0.2411 - val_sparse_categorical_accuracy: 0.9310\n",
            "Epoch 175/200\n",
            "4/4 [==============================] - 0s 10ms/step - loss: 0.1421 - sparse_categorical_accuracy: 0.9735 - val_loss: 0.2394 - val_sparse_categorical_accuracy: 0.9310\n",
            "Epoch 176/200\n",
            "4/4 [==============================] - 0s 13ms/step - loss: 0.1408 - sparse_categorical_accuracy: 0.9735 - val_loss: 0.2381 - val_sparse_categorical_accuracy: 0.9310\n",
            "Epoch 177/200\n",
            "4/4 [==============================] - 0s 10ms/step - loss: 0.1395 - sparse_categorical_accuracy: 0.9735 - val_loss: 0.2360 - val_sparse_categorical_accuracy: 0.9310\n",
            "Epoch 178/200\n",
            "4/4 [==============================] - 0s 9ms/step - loss: 0.1382 - sparse_categorical_accuracy: 0.9735 - val_loss: 0.2342 - val_sparse_categorical_accuracy: 0.9310\n",
            "Epoch 179/200\n",
            "4/4 [==============================] - 0s 10ms/step - loss: 0.1369 - sparse_categorical_accuracy: 0.9735 - val_loss: 0.2331 - val_sparse_categorical_accuracy: 0.9310\n",
            "Epoch 180/200\n",
            "4/4 [==============================] - 0s 10ms/step - loss: 0.1358 - sparse_categorical_accuracy: 0.9735 - val_loss: 0.2316 - val_sparse_categorical_accuracy: 0.9310\n",
            "Epoch 181/200\n",
            "4/4 [==============================] - 0s 11ms/step - loss: 0.1346 - sparse_categorical_accuracy: 0.9735 - val_loss: 0.2306 - val_sparse_categorical_accuracy: 0.9310\n",
            "Epoch 182/200\n",
            "4/4 [==============================] - 0s 11ms/step - loss: 0.1334 - sparse_categorical_accuracy: 0.9735 - val_loss: 0.2290 - val_sparse_categorical_accuracy: 0.9310\n",
            "Epoch 183/200\n",
            "4/4 [==============================] - 0s 10ms/step - loss: 0.1322 - sparse_categorical_accuracy: 0.9735 - val_loss: 0.2276 - val_sparse_categorical_accuracy: 0.9310\n",
            "Epoch 184/200\n",
            "4/4 [==============================] - 0s 11ms/step - loss: 0.1311 - sparse_categorical_accuracy: 0.9735 - val_loss: 0.2263 - val_sparse_categorical_accuracy: 0.9310\n",
            "Epoch 185/200\n",
            "4/4 [==============================] - 0s 17ms/step - loss: 0.1300 - sparse_categorical_accuracy: 0.9735 - val_loss: 0.2246 - val_sparse_categorical_accuracy: 0.9310\n",
            "Epoch 186/200\n",
            "4/4 [==============================] - 0s 10ms/step - loss: 0.1289 - sparse_categorical_accuracy: 0.9735 - val_loss: 0.2235 - val_sparse_categorical_accuracy: 0.9310\n",
            "Epoch 187/200\n",
            "4/4 [==============================] - 0s 12ms/step - loss: 0.1277 - sparse_categorical_accuracy: 0.9735 - val_loss: 0.2224 - val_sparse_categorical_accuracy: 0.9310\n",
            "Epoch 188/200\n",
            "4/4 [==============================] - 0s 11ms/step - loss: 0.1267 - sparse_categorical_accuracy: 0.9735 - val_loss: 0.2208 - val_sparse_categorical_accuracy: 0.9310\n",
            "Epoch 189/200\n",
            "4/4 [==============================] - 0s 10ms/step - loss: 0.1256 - sparse_categorical_accuracy: 0.9735 - val_loss: 0.2203 - val_sparse_categorical_accuracy: 0.9310\n",
            "Epoch 190/200\n",
            "4/4 [==============================] - 0s 11ms/step - loss: 0.1245 - sparse_categorical_accuracy: 0.9735 - val_loss: 0.2195 - val_sparse_categorical_accuracy: 0.9310\n",
            "Epoch 191/200\n",
            "4/4 [==============================] - 0s 11ms/step - loss: 0.1235 - sparse_categorical_accuracy: 0.9735 - val_loss: 0.2186 - val_sparse_categorical_accuracy: 0.9310\n",
            "Epoch 192/200\n",
            "4/4 [==============================] - 0s 9ms/step - loss: 0.1226 - sparse_categorical_accuracy: 0.9735 - val_loss: 0.2171 - val_sparse_categorical_accuracy: 0.9310\n",
            "Epoch 193/200\n",
            "4/4 [==============================] - 0s 10ms/step - loss: 0.1216 - sparse_categorical_accuracy: 0.9735 - val_loss: 0.2163 - val_sparse_categorical_accuracy: 0.9310\n",
            "Epoch 194/200\n",
            "4/4 [==============================] - 0s 11ms/step - loss: 0.1207 - sparse_categorical_accuracy: 0.9735 - val_loss: 0.2150 - val_sparse_categorical_accuracy: 0.9310\n",
            "Epoch 195/200\n",
            "4/4 [==============================] - 0s 11ms/step - loss: 0.1198 - sparse_categorical_accuracy: 0.9735 - val_loss: 0.2135 - val_sparse_categorical_accuracy: 0.9310\n",
            "Epoch 196/200\n",
            "4/4 [==============================] - 0s 10ms/step - loss: 0.1188 - sparse_categorical_accuracy: 0.9735 - val_loss: 0.2126 - val_sparse_categorical_accuracy: 0.9310\n",
            "Epoch 197/200\n",
            "4/4 [==============================] - 0s 10ms/step - loss: 0.1179 - sparse_categorical_accuracy: 0.9735 - val_loss: 0.2111 - val_sparse_categorical_accuracy: 0.9310\n",
            "Epoch 198/200\n",
            "4/4 [==============================] - 0s 12ms/step - loss: 0.1169 - sparse_categorical_accuracy: 0.9735 - val_loss: 0.2104 - val_sparse_categorical_accuracy: 0.9310\n",
            "Epoch 199/200\n",
            "4/4 [==============================] - 0s 10ms/step - loss: 0.1161 - sparse_categorical_accuracy: 0.9735 - val_loss: 0.2089 - val_sparse_categorical_accuracy: 0.9310\n",
            "Epoch 200/200\n",
            "4/4 [==============================] - 0s 11ms/step - loss: 0.1151 - sparse_categorical_accuracy: 0.9735 - val_loss: 0.2079 - val_sparse_categorical_accuracy: 0.9310\n",
            "Model: \"sequential_3\"\n",
            "_________________________________________________________________\n",
            " Layer (type)                Output Shape              Param #   \n",
            "=================================================================\n",
            " dense_10 (Dense)            (None, 4)                 56        \n",
            "                                                                 \n",
            " dense_11 (Dense)            (None, 10)                50        \n",
            "                                                                 \n",
            " dense_12 (Dense)            (None, 3)                 33        \n",
            "                                                                 \n",
            "=================================================================\n",
            "Total params: 139\n",
            "Trainable params: 139\n",
            "Non-trainable params: 0\n",
            "_________________________________________________________________\n"
          ]
        }
      ]
    },
    {
      "cell_type": "code",
      "source": [
        "#Accuracy of testing scaler\n",
        "results = model.evaluate(scaler_test, testing_labels)\n",
        "\n",
        "print(f'Test scaler loss: {results[0]:0.2f}, accuracy: {results[1]*100:0.2f}%')"
      ],
      "metadata": {
        "colab": {
          "base_uri": "https://localhost:8080/"
        },
        "id": "vuMhJABrJcq9",
        "outputId": "361f0083-27cf-4082-9cb0-91287fe2b0d5"
      },
      "execution_count": 60,
      "outputs": [
        {
          "output_type": "stream",
          "name": "stdout",
          "text": [
            "2/2 [==============================] - 0s 6ms/step - loss: 0.1530 - sparse_categorical_accuracy: 0.9722\n",
            "Test scaler loss: 0.15, accuracy: 97.22%\n"
          ]
        }
      ]
    },
    {
      "cell_type": "code",
      "source": [
        "#plotting \n",
        "plt.figure(figsize=[10,5])\n",
        "plt.subplot(121)\n",
        "plt.scatter(scaler_test[:,0], scaler_test[:,1], c = testing_labels, marker = 'o')\n",
        "plt.ylabel('Feature 1')\n",
        "plt.xlabel('Feature 0')\n",
        "plt.title('Ground Truth')\n",
        "plt.subplot(122)\n",
        "plt.title('Predicted Labels')\n",
        "plt.xlabel('Feature 0')\n",
        "plt.scatter(scaler_test[:,0], scaler_test[:,1], c = np.argmax(model.predict(scaler_test), axis=1), marker = 'o')\n",
        "plt.show()"
      ],
      "metadata": {
        "colab": {
          "base_uri": "https://localhost:8080/",
          "height": 367
        },
        "id": "PUbMIx7EKz39",
        "outputId": "6fe3c521-607e-45a1-da80-92583e411ecc"
      },
      "execution_count": 61,
      "outputs": [
        {
          "output_type": "stream",
          "name": "stdout",
          "text": [
            "2/2 [==============================] - 0s 6ms/step\n"
          ]
        },
        {
          "output_type": "display_data",
          "data": {
            "text/plain": [
              "<Figure size 720x360 with 2 Axes>"
            ],
            "image/png": "[encoded data removed]"
          },
          "metadata": {
            "needs_background": "light"
          }
        }
      ]
    },
    {
      "cell_type": "code",
      "source": [
        "#plotting curves\n",
        "plt.figure(figsize=[10,5])\n",
        "plt.subplot(121)\n",
        "plt.plot(history.history['sparse_categorical_accuracy'])\n",
        "plt.plot(history.history['val_sparse_categorical_accuracy'])\n",
        "plt.xlabel('Epoch')\n",
        "plt.ylabel('Accuracy')\n",
        "plt.legend(['Training Accuracy',\n",
        "           'Validation Accuracy'])\n",
        "plt.title('Accuracy Curves')\n",
        "\n",
        "plt.subplot(122)\n",
        "plt.plot(history.history['loss'])\n",
        "plt.plot(history.history['val_loss'])\n",
        "plt.xlabel('Epoch')\n",
        "plt.ylabel('Loss')\n",
        "plt.legend(['Training Loss',\n",
        "           'Validation Loss'])\n",
        "plt.title('Loss Curves')\n",
        "plt.show()"
      ],
      "metadata": {
        "colab": {
          "base_uri": "https://localhost:8080/",
          "height": 350
        },
        "id": "Y1YWdT3gMbGe",
        "outputId": "e7a57e3c-801b-4f65-9d61-3bf57d6553dd"
      },
      "execution_count": 62,
      "outputs": [
        {
          "output_type": "display_data",
          "data": {
            "text/plain": [
              "<Figure size 720x360 with 2 Axes>"
            ],
            "image/png": "[encoded data removed]"
          },
          "metadata": {
            "needs_background": "light"
          }
        }
      ]
    },
    {
      "cell_type": "markdown",
      "source": [
        "**Task4.3 NN for Digit recognition**"
      ],
      "metadata": {
        "id": "X0hG7z0yOafD"
      }
    },
    {
      "cell_type": "code",
      "source": [
        "(X_training, X_train_labels), (X_testing, X_test_labels) = tf.keras.datasets.mnist.load_data()"
      ],
      "metadata": {
        "id": "tvLgWwfnOhqQ"
      },
      "execution_count": 63,
      "outputs": []
    },
    {
      "cell_type": "code",
      "source": [
        "X_reshape_tr = X_training.reshape(X_training.shape[0], 784)\n",
        "X_reshape_ts = X_testing.reshape(X_testing.shape[0], 784)\n",
        "print(X_reshape_tr)\n",
        "print(X_reshape_ts)"
      ],
      "metadata": {
        "colab": {
          "base_uri": "https://localhost:8080/"
        },
        "id": "drrXz2TqDTSb",
        "outputId": "305d7de0-dc64-45c7-c11a-01a03dcd5602"
      },
      "execution_count": 66,
      "outputs": [
        {
          "output_type": "stream",
          "name": "stdout",
          "text": [
            "[[0 0 0 ... 0 0 0]\n",
            " [0 0 0 ... 0 0 0]\n",
            " [0 0 0 ... 0 0 0]\n",
            " ...\n",
            " [0 0 0 ... 0 0 0]\n",
            " [0 0 0 ... 0 0 0]\n",
            " [0 0 0 ... 0 0 0]]\n",
            "[[0 0 0 ... 0 0 0]\n",
            " [0 0 0 ... 0 0 0]\n",
            " [0 0 0 ... 0 0 0]\n",
            " ...\n",
            " [0 0 0 ... 0 0 0]\n",
            " [0 0 0 ... 0 0 0]\n",
            " [0 0 0 ... 0 0 0]]\n"
          ]
        }
      ]
    },
    {
      "cell_type": "code",
      "source": [
        "print(X_reshape_tr.shape)\n",
        "print(X_train_labels.shape)\n",
        "print(X_reshape_ts.shape)\n",
        "print(X_test_labels.shape)\n"
      ],
      "metadata": {
        "colab": {
          "base_uri": "https://localhost:8080/"
        },
        "id": "UWOc5562D53Z",
        "outputId": "274c05d5-68c7-4af3-eb76-cabb1defada7"
      },
      "execution_count": 67,
      "outputs": [
        {
          "output_type": "stream",
          "name": "stdout",
          "text": [
            "(60000, 784)\n",
            "(60000,)\n",
            "(10000, 784)\n",
            "(10000,)\n"
          ]
        }
      ]
    },
    {
      "cell_type": "code",
      "source": [
        "#Normalising the data\n",
        "norm_train = X_reshape_tr/255\n",
        "norm_test = X_reshape_ts/255"
      ],
      "metadata": {
        "id": "R0kQd1_PEdx0"
      },
      "execution_count": 68,
      "outputs": []
    },
    {
      "cell_type": "code",
      "source": [
        "#Fully connected NN\n",
        "model = tf.keras.Sequential(layers=[tf.keras.layers.Dense(6, activation=tf.nn.relu),\n",
        "                                    tf.keras.layers.Dense(10, activation=tf.nn.relu),\n",
        "                                    tf.keras.layers.Dense(len(np.unique(X_train_labels)), activation=tf.nn.softmax)])\n",
        "\n",
        "model.compile(optimizer=tf.keras.optimizers.SGD(), loss=tf.keras.losses.SparseCategoricalCrossentropy(), \n",
        "              metrics=tf.keras.metrics.SparseCategoricalAccuracy())\n",
        "\n",
        "history = model.fit(norm_train, X_train_labels, epochs=15, validation_split=0.2, verbose=1)\n",
        "model.summary()"
      ],
      "metadata": {
        "colab": {
          "base_uri": "https://localhost:8080/"
        },
        "id": "YPNyaa2-EuRf",
        "outputId": "73214f1e-5d81-4c64-d969-6265663c50e7"
      },
      "execution_count": 69,
      "outputs": [
        {
          "output_type": "stream",
          "name": "stdout",
          "text": [
            "Epoch 1/15\n",
            "1500/1500 [==============================] - 4s 2ms/step - loss: 1.5595 - sparse_categorical_accuracy: 0.4514 - val_loss: 0.8953 - val_sparse_categorical_accuracy: 0.6996\n",
            "Epoch 2/15\n",
            "1500/1500 [==============================] - 3s 2ms/step - loss: 0.8203 - sparse_categorical_accuracy: 0.7297 - val_loss: 0.6863 - val_sparse_categorical_accuracy: 0.7851\n",
            "Epoch 3/15\n",
            "1500/1500 [==============================] - 4s 3ms/step - loss: 0.6383 - sparse_categorical_accuracy: 0.8042 - val_loss: 0.5465 - val_sparse_categorical_accuracy: 0.8360\n",
            "Epoch 4/15\n",
            "1500/1500 [==============================] - 3s 2ms/step - loss: 0.5264 - sparse_categorical_accuracy: 0.8432 - val_loss: 0.4657 - val_sparse_categorical_accuracy: 0.8634\n",
            "Epoch 5/15\n",
            "1500/1500 [==============================] - 4s 3ms/step - loss: 0.4579 - sparse_categorical_accuracy: 0.8656 - val_loss: 0.4279 - val_sparse_categorical_accuracy: 0.8750\n",
            "Epoch 6/15\n",
            "1500/1500 [==============================] - 3s 2ms/step - loss: 0.4204 - sparse_categorical_accuracy: 0.8782 - val_loss: 0.3926 - val_sparse_categorical_accuracy: 0.8853\n",
            "Epoch 7/15\n",
            "1500/1500 [==============================] - 3s 2ms/step - loss: 0.3938 - sparse_categorical_accuracy: 0.8855 - val_loss: 0.3681 - val_sparse_categorical_accuracy: 0.8928\n",
            "Epoch 8/15\n",
            "1500/1500 [==============================] - 3s 2ms/step - loss: 0.3739 - sparse_categorical_accuracy: 0.8908 - val_loss: 0.3613 - val_sparse_categorical_accuracy: 0.8956\n",
            "Epoch 9/15\n",
            "1500/1500 [==============================] - 3s 2ms/step - loss: 0.3596 - sparse_categorical_accuracy: 0.8954 - val_loss: 0.3414 - val_sparse_categorical_accuracy: 0.9045\n",
            "Epoch 10/15\n",
            "1500/1500 [==============================] - 3s 2ms/step - loss: 0.3478 - sparse_categorical_accuracy: 0.8995 - val_loss: 0.3338 - val_sparse_categorical_accuracy: 0.9053\n",
            "Epoch 11/15\n",
            "1500/1500 [==============================] - 3s 2ms/step - loss: 0.3393 - sparse_categorical_accuracy: 0.9032 - val_loss: 0.3284 - val_sparse_categorical_accuracy: 0.9055\n",
            "Epoch 12/15\n",
            "1500/1500 [==============================] - 3s 2ms/step - loss: 0.3327 - sparse_categorical_accuracy: 0.9042 - val_loss: 0.3305 - val_sparse_categorical_accuracy: 0.9061\n",
            "Epoch 13/15\n",
            "1500/1500 [==============================] - 3s 2ms/step - loss: 0.3274 - sparse_categorical_accuracy: 0.9046 - val_loss: 0.3155 - val_sparse_categorical_accuracy: 0.9109\n",
            "Epoch 14/15\n",
            "1500/1500 [==============================] - 4s 2ms/step - loss: 0.3225 - sparse_categorical_accuracy: 0.9077 - val_loss: 0.3169 - val_sparse_categorical_accuracy: 0.9083\n",
            "Epoch 15/15\n",
            "1500/1500 [==============================] - 3s 2ms/step - loss: 0.3183 - sparse_categorical_accuracy: 0.9085 - val_loss: 0.3111 - val_sparse_categorical_accuracy: 0.9120\n",
            "Model: \"sequential_4\"\n",
            "_________________________________________________________________\n",
            " Layer (type)                Output Shape              Param #   \n",
            "=================================================================\n",
            " dense_13 (Dense)            (32, 6)                   4710      \n",
            "                                                                 \n",
            " dense_14 (Dense)            (32, 10)                  70        \n",
            "                                                                 \n",
            " dense_15 (Dense)            (32, 10)                  110       \n",
            "                                                                 \n",
            "=================================================================\n",
            "Total params: 4,890\n",
            "Trainable params: 4,890\n",
            "Non-trainable params: 0\n",
            "_________________________________________________________________\n"
          ]
        }
      ]
    },
    {
      "cell_type": "code",
      "source": [
        "#Model accuracy on label prediction\n",
        "lables_prediction = np.argmax(model.predict(norm_test), axis=1)\n",
        "\n",
        "results = model.evaluate(norm_test, X_test_labels)\n",
        "\n",
        "print(f'Test set loss: {results[0]:0.2f}, test set accuracy: {results[1]*100:0.2f}%')\n"
      ],
      "metadata": {
        "colab": {
          "base_uri": "https://localhost:8080/"
        },
        "id": "m9lyJrZOFt6j",
        "outputId": "7d3ec06d-16ec-4c3a-d1fa-658f901b9a31"
      },
      "execution_count": 70,
      "outputs": [
        {
          "output_type": "stream",
          "name": "stdout",
          "text": [
            "313/313 [==============================] - 0s 1ms/step\n",
            "313/313 [==============================] - 1s 1ms/step - loss: 0.3343 - sparse_categorical_accuracy: 0.9030\n",
            "Test set loss: 0.33, test set accuracy: 90.30%\n"
          ]
        }
      ]
    },
    {
      "cell_type": "code",
      "source": [
        "#Plotting curves\n",
        "plt.figure(figsize=[10,5])\n",
        "plt.subplot(121)\n",
        "plt.plot(history.history['sparse_categorical_accuracy'])\n",
        "plt.plot(history.history['val_sparse_categorical_accuracy'])\n",
        "plt.xlabel('Epoch')\n",
        "plt.ylabel('Accuracy')\n",
        "plt.legend(['Training Accuracy',\n",
        "           'Validation Accuracy'])\n",
        "plt.title('Accuracy Curves')\n",
        "\n",
        "plt.subplot(122)\n",
        "plt.plot(history.history['loss'])\n",
        "plt.plot(history.history['val_loss'])\n",
        "plt.xlabel('Epoch')\n",
        "plt.ylabel('Loss')\n",
        "plt.legend(['Training Loss',\n",
        "           'Validation Loss'])\n",
        "plt.title('Loss Curves')\n",
        "plt.show()"
      ],
      "metadata": {
        "colab": {
          "base_uri": "https://localhost:8080/",
          "height": 350
        },
        "id": "CUpJLK9FGGCk",
        "outputId": "67bde4c9-dbbf-415a-fbe6-85bd2cc80589"
      },
      "execution_count": 71,
      "outputs": [
        {
          "output_type": "display_data",
          "data": {
            "text/plain": [
              "<Figure size 720x360 with 2 Axes>"
            ],
            "image/png": "[encoded data removed]"
          },
          "metadata": {
            "needs_background": "light"
          }
        }
      ]
    },
    {
      "cell_type": "markdown",
      "source": [
        "**Task4.4 CNN for Digit recognition**"
      ],
      "metadata": {
        "id": "75BPeXdjG8xv"
      }
    },
    {
      "cell_type": "code",
      "source": [
        "expand_training = np.expand_dims(X_training, axis = 3)\n",
        "expand_testing = np.expand_dims(X_testing, axis = 3)\n",
        "print(expand_training.shape)\n",
        "print(expand_testing.shape)"
      ],
      "metadata": {
        "colab": {
          "base_uri": "https://localhost:8080/"
        },
        "id": "L1FPMEq_HJyF",
        "outputId": "88fe6e59-d482-4844-e476-1c2ba1684f52"
      },
      "execution_count": 80,
      "outputs": [
        {
          "output_type": "stream",
          "name": "stdout",
          "text": [
            "(60000, 28, 28, 1)\n",
            "(10000, 28, 28, 1)\n"
          ]
        }
      ]
    },
    {
      "cell_type": "code",
      "source": [
        "#Normalising expanded data\n",
        "norm_training = expand_training/255\n",
        "norm_testing = expand_testing/255"
      ],
      "metadata": {
        "id": "ZsCNb0t5I3z-"
      },
      "execution_count": 81,
      "outputs": []
    },
    {
      "cell_type": "code",
      "source": [
        "shape_input = norm_training.shape[1:]\n",
        "print(shape_input)\n",
        "model = tf.keras.Sequential()\n",
        "\n",
        "model.add(tf.keras.layers.Conv2D(32, (3,3), activation = \"relu\",input_shape = shape_input))\n",
        "model.add(tf.keras.layers.MaxPooling2D(pool_size=(2, 2)))\n",
        "\n",
        "\n",
        "model.add(tf.keras.layers.Conv2D(64, (3,3), activation=\"relu\"))\n",
        "model.add(tf.keras.layers.MaxPooling2D(pool_size=(2, 2)))\n",
        "\n",
        "model.add(tf.keras.layers.Conv2D(64, (3,3), activation=\"relu\"))\n",
        "\n",
        "model.add(Flatten())\n",
        "model.add(Dense(100, activation='relu'))\n",
        "model.add(tf.keras.layers.Dense(10))\n",
        "\n",
        "model.summary()"
      ],
      "metadata": {
        "colab": {
          "base_uri": "https://localhost:8080/"
        },
        "id": "28RZWmVKJNM2",
        "outputId": "070b7777-d5fa-4287-c330-2f24a0a18ebc"
      },
      "execution_count": 94,
      "outputs": [
        {
          "output_type": "stream",
          "name": "stdout",
          "text": [
            "(28, 28, 1)\n",
            "Model: \"sequential_9\"\n",
            "_________________________________________________________________\n",
            " Layer (type)                Output Shape              Param #   \n",
            "=================================================================\n",
            " conv2d_18 (Conv2D)          (None, 26, 26, 32)        320       \n",
            "                                                                 \n",
            " max_pooling2d_9 (MaxPooling  (None, 13, 13, 32)       0         \n",
            " 2D)                                                             \n",
            "                                                                 \n",
            " conv2d_19 (Conv2D)          (None, 11, 11, 64)        18496     \n",
            "                                                                 \n",
            " max_pooling2d_10 (MaxPoolin  (None, 5, 5, 64)         0         \n",
            " g2D)                                                            \n",
            "                                                                 \n",
            " conv2d_20 (Conv2D)          (None, 3, 3, 64)          36928     \n",
            "                                                                 \n",
            " flatten_5 (Flatten)         (None, 576)               0         \n",
            "                                                                 \n",
            " dense_24 (Dense)            (None, 100)               57700     \n",
            "                                                                 \n",
            " dense_25 (Dense)            (None, 10)                1010      \n",
            "                                                                 \n",
            "=================================================================\n",
            "Total params: 114,454\n",
            "Trainable params: 114,454\n",
            "Non-trainable params: 0\n",
            "_________________________________________________________________\n"
          ]
        }
      ]
    },
    {
      "cell_type": "code",
      "source": [
        "loss_function =tf.keras.losses.SparseCategoricalCrossentropy(from_logits=True)\n",
        "\n",
        "#loss_fn = tf.keras.losses.binary_crossentropy(y_train,y_pred)\n",
        "model.compile(optimizer=tf.keras.optimizers.Adam(), \n",
        "              loss = loss_function,\n",
        "              metrics=tf.keras.metrics.SparseCategoricalAccuracy())\n",
        "\n",
        "\n",
        "history = model.fit(norm_training, X_train_labels, epochs=10, validation_split=0.2, verbose=1)"
      ],
      "metadata": {
        "colab": {
          "base_uri": "https://localhost:8080/"
        },
        "id": "diw3d5IXmTc_",
        "outputId": "252fac92-9813-41ef-c614-2e36f0cff1b7"
      },
      "execution_count": 96,
      "outputs": [
        {
          "output_type": "stream",
          "name": "stdout",
          "text": [
            "Epoch 1/10\n",
            "1500/1500 [==============================] - 54s 35ms/step - loss: 0.1116 - sparse_categorical_accuracy: 0.9657 - val_loss: 0.0768 - val_sparse_categorical_accuracy: 0.9758\n",
            "Epoch 2/10\n",
            "1500/1500 [==============================] - 52s 34ms/step - loss: 0.0486 - sparse_categorical_accuracy: 0.9849 - val_loss: 0.0439 - val_sparse_categorical_accuracy: 0.9867\n",
            "Epoch 3/10\n",
            "1500/1500 [==============================] - 53s 35ms/step - loss: 0.0350 - sparse_categorical_accuracy: 0.9888 - val_loss: 0.0533 - val_sparse_categorical_accuracy: 0.9852\n",
            "Epoch 4/10\n",
            "1500/1500 [==============================] - 51s 34ms/step - loss: 0.0264 - sparse_categorical_accuracy: 0.9917 - val_loss: 0.0385 - val_sparse_categorical_accuracy: 0.9896\n",
            "Epoch 5/10\n",
            "1500/1500 [==============================] - 51s 34ms/step - loss: 0.0222 - sparse_categorical_accuracy: 0.9931 - val_loss: 0.0473 - val_sparse_categorical_accuracy: 0.9861\n",
            "Epoch 6/10\n",
            "1500/1500 [==============================] - 51s 34ms/step - loss: 0.0167 - sparse_categorical_accuracy: 0.9944 - val_loss: 0.0384 - val_sparse_categorical_accuracy: 0.9904\n",
            "Epoch 7/10\n",
            "1500/1500 [==============================] - 50s 34ms/step - loss: 0.0144 - sparse_categorical_accuracy: 0.9954 - val_loss: 0.0449 - val_sparse_categorical_accuracy: 0.9882\n",
            "Epoch 8/10\n",
            "1500/1500 [==============================] - 50s 33ms/step - loss: 0.0112 - sparse_categorical_accuracy: 0.9964 - val_loss: 0.0587 - val_sparse_categorical_accuracy: 0.9847\n",
            "Epoch 9/10\n",
            "1500/1500 [==============================] - 53s 35ms/step - loss: 0.0102 - sparse_categorical_accuracy: 0.9967 - val_loss: 0.0485 - val_sparse_categorical_accuracy: 0.9893\n",
            "Epoch 10/10\n",
            "1500/1500 [==============================] - 50s 34ms/step - loss: 0.0105 - sparse_categorical_accuracy: 0.9964 - val_loss: 0.0440 - val_sparse_categorical_accuracy: 0.9900\n"
          ]
        }
      ]
    },
    {
      "cell_type": "code",
      "source": [
        "\n",
        "predicted_labels = np.argmax(model.predict(norm_testing), axis=1)\n",
        "\n",
        "results = model.evaluate(norm_testing, X_test_labels)\n",
        "\n",
        "print(f'Test set loss: {results[0]:0.2f}, test set accuracy: {results[1]*100:0.2f}%')\n"
      ],
      "metadata": {
        "colab": {
          "base_uri": "https://localhost:8080/"
        },
        "id": "GCfVZJAKrPQ5",
        "outputId": "24478796-58d0-4318-ab29-5a56d61ce9d9"
      },
      "execution_count": 97,
      "outputs": [
        {
          "output_type": "stream",
          "name": "stdout",
          "text": [
            "313/313 [==============================] - 3s 11ms/step\n",
            "313/313 [==============================] - 4s 11ms/step - loss: 0.0321 - sparse_categorical_accuracy: 0.9912\n",
            "Test set loss: 0.03, test set accuracy: 99.12%\n"
          ]
        }
      ]
    },
    {
      "cell_type": "code",
      "source": [
        "plt.figure(figsize=[10,5])\n",
        "plt.subplot(121)\n",
        "plt.plot(history.history['sparse_categorical_accuracy'])\n",
        "plt.plot(history.history['val_sparse_categorical_accuracy'])\n",
        "plt.xlabel('Epoch')\n",
        "plt.ylabel('Accuracy')\n",
        "plt.legend(['Training Accuracy',\n",
        "           'Validation Accuracy'])\n",
        "plt.title('Accuracy Curves')\n",
        "\n",
        "plt.subplot(122)\n",
        "plt.plot(history.history['loss'])\n",
        "plt.plot(history.history['val_loss'])\n",
        "plt.xlabel('Epoch')\n",
        "plt.ylabel('Loss')\n",
        "plt.legend(['Training Loss',\n",
        "           'Validation Loss'])\n",
        "plt.title('Loss Curves')\n",
        "plt.show()"
      ],
      "metadata": {
        "colab": {
          "base_uri": "https://localhost:8080/",
          "height": 350
        },
        "id": "g0WDXoo79ACm",
        "outputId": "8f05158a-5e6d-4a61-8e3a-9e0c34aa9eb0"
      },
      "execution_count": 99,
      "outputs": [
        {
          "output_type": "display_data",
          "data": {
            "text/plain": [
              "<Figure size 720x360 with 2 Axes>"
            ],
            "image/png": "[encoded data removed]"
          },
          "metadata": {
            "needs_background": "light"
          }
        }
      ]
    }
  ]
}